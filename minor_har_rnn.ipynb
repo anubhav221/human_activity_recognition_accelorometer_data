{
  "nbformat": 4,
  "nbformat_minor": 0,
  "metadata": {
    "accelerator": "GPU",
    "colab": {
      "name": "minor_har_rnn.ipynb",
      "provenance": []
    },
    "kernelspec": {
      "display_name": "Python 3",
      "name": "python3"
    }
  },
  "cells": [
    {
      "cell_type": "code",
      "metadata": {
        "colab": {
          "base_uri": "https://localhost:8080/"
        },
        "id": "EARTNhSfPM8w",
        "outputId": "08eba592-f1bb-433d-a84e-f7bab53797fe"
      },
      "source": [
        "import pandas as pd\r\n",
        "import numpy as np\r\n",
        "import matplotlib.pyplot as plt\r\n",
        "from sklearn.model_selection import train_test_split\r\n",
        "from sklearn.preprocessing import StandardScaler, LabelEncoder\r\n",
        "import seaborn as sns\r\n",
        "%matplotlib inline\r\n",
        "%config Completer.use_jedi = False\r\n",
        "import os\r\n",
        "import joblib"
      ],
      "execution_count": 1,
      "outputs": [
        {
          "output_type": "stream",
          "text": [
            "/usr/local/lib/python3.7/dist-packages/ipykernel_launcher.py:8: UserWarning: Config option `use_jedi` not recognized by `IPCompleter`.\n",
            "  \n"
          ],
          "name": "stderr"
        }
      ]
    },
    {
      "cell_type": "code",
      "metadata": {
        "colab": {
          "base_uri": "https://localhost:8080/"
        },
        "id": "8A6fZIAvPqHQ",
        "outputId": "abf295e2-b18d-4f02-f404-523fd4af25f4"
      },
      "source": [
        "X = joblib.load('/content/drive/MyDrive/minor_rnn/X')\r\n",
        "y = joblib.load('/content/drive/MyDrive/minor_rnn/y')\r\n",
        "X.shape, y.shape"
      ],
      "execution_count": 2,
      "outputs": [
        {
          "output_type": "execute_result",
          "data": {
            "text/plain": [
              "((8584, 80, 3), (8584,))"
            ]
          },
          "metadata": {
            "tags": []
          },
          "execution_count": 2
        }
      ]
    },
    {
      "cell_type": "code",
      "metadata": {
        "id": "ErWPc7rLP2cU"
      },
      "source": [
        "X_train, X_test, y_train, y_test = train_test_split(X, y, test_size = 0.2, random_state = 0, \r\n",
        "                                                    stratify = y)"
      ],
      "execution_count": 3,
      "outputs": []
    },
    {
      "cell_type": "code",
      "metadata": {
        "id": "uIMMpgw9QFFi"
      },
      "source": [
        "import tensorflow as tf\r\n",
        "from tensorflow import keras\r\n",
        "from tensorflow.keras import layers"
      ],
      "execution_count": 4,
      "outputs": []
    },
    {
      "cell_type": "code",
      "metadata": {
        "id": "x79XRLmcmgjP"
      },
      "source": [
        "from tensorflow import keras\r\n",
        "from tensorflow.keras import layers"
      ],
      "execution_count": 5,
      "outputs": []
    },
    {
      "cell_type": "code",
      "metadata": {
        "colab": {
          "base_uri": "https://localhost:8080/"
        },
        "id": "fL-Z0Ln3QHcd",
        "outputId": "5054b933-9bad-47b4-ea06-eb1eda4ba2ad"
      },
      "source": [
        "model = keras.Sequential()\r\n",
        "\r\n",
        "model.add(layers.LSTM(128, return_sequences=True,input_shape=(80,3),dropout=0.1))\r\n",
        "\r\n",
        "model.add(layers.SimpleRNN(128,dropout=0.1))\r\n",
        "\r\n",
        "model.add(layers.Dense(32))\r\n",
        "\r\n",
        "model.add(layers.Dense(6,activation='softmax'))\r\n",
        "\r\n",
        "model.summary()\r\n",
        "\r\n",
        "\r\n"
      ],
      "execution_count": 6,
      "outputs": [
        {
          "output_type": "stream",
          "text": [
            "Model: \"sequential\"\n",
            "_________________________________________________________________\n",
            "Layer (type)                 Output Shape              Param #   \n",
            "=================================================================\n",
            "lstm (LSTM)                  (None, 80, 128)           67584     \n",
            "_________________________________________________________________\n",
            "simple_rnn (SimpleRNN)       (None, 128)               32896     \n",
            "_________________________________________________________________\n",
            "dense (Dense)                (None, 32)                4128      \n",
            "_________________________________________________________________\n",
            "dense_1 (Dense)              (None, 6)                 198       \n",
            "=================================================================\n",
            "Total params: 104,806\n",
            "Trainable params: 104,806\n",
            "Non-trainable params: 0\n",
            "_________________________________________________________________\n"
          ],
          "name": "stdout"
        }
      ]
    },
    {
      "cell_type": "code",
      "metadata": {
        "id": "3LoEF1FRQKNs"
      },
      "source": [
        "model.compile(optimizer=keras.optimizers.Adam(learning_rate=0.0005),\r\n",
        "                loss='sparse_categorical_crossentropy',\r\n",
        "              metrics=['accuracy']) "
      ],
      "execution_count": 7,
      "outputs": []
    },
    {
      "cell_type": "code",
      "metadata": {
        "colab": {
          "base_uri": "https://localhost:8080/"
        },
        "id": "if3gtE0uQjPM",
        "outputId": "827de03b-7fe7-412c-ced1-e0832fbed91e"
      },
      "source": [
        "history = model.fit(X_train,y_train, epochs=100, validation_data=(X_test,y_test))"
      ],
      "execution_count": 8,
      "outputs": [
        {
          "output_type": "stream",
          "text": [
            "Epoch 1/100\n",
            "215/215 [==============================] - 50s 77ms/step - loss: 0.9980 - accuracy: 0.6586 - val_loss: 0.6192 - val_accuracy: 0.8014\n",
            "Epoch 2/100\n",
            "215/215 [==============================] - 16s 74ms/step - loss: 0.5674 - accuracy: 0.7975 - val_loss: 0.5282 - val_accuracy: 0.8008\n",
            "Epoch 3/100\n",
            "215/215 [==============================] - 16s 75ms/step - loss: 0.5328 - accuracy: 0.7968 - val_loss: 0.4985 - val_accuracy: 0.8130\n",
            "Epoch 4/100\n",
            "215/215 [==============================] - 16s 74ms/step - loss: 0.5047 - accuracy: 0.8114 - val_loss: 0.4374 - val_accuracy: 0.8305\n",
            "Epoch 5/100\n",
            "215/215 [==============================] - 16s 74ms/step - loss: 0.4974 - accuracy: 0.8120 - val_loss: 0.4474 - val_accuracy: 0.8328\n",
            "Epoch 6/100\n",
            "215/215 [==============================] - 16s 75ms/step - loss: 0.4614 - accuracy: 0.8249 - val_loss: 0.3873 - val_accuracy: 0.8404\n",
            "Epoch 7/100\n",
            "215/215 [==============================] - 16s 75ms/step - loss: 0.3946 - accuracy: 0.8420 - val_loss: 0.4095 - val_accuracy: 0.8404\n",
            "Epoch 8/100\n",
            "215/215 [==============================] - 16s 74ms/step - loss: 0.3496 - accuracy: 0.8555 - val_loss: 0.3801 - val_accuracy: 0.8503\n",
            "Epoch 9/100\n",
            "215/215 [==============================] - 16s 73ms/step - loss: 0.3824 - accuracy: 0.8423 - val_loss: 0.3772 - val_accuracy: 0.8660\n",
            "Epoch 10/100\n",
            "215/215 [==============================] - 16s 73ms/step - loss: 0.3445 - accuracy: 0.8625 - val_loss: 0.3420 - val_accuracy: 0.8701\n",
            "Epoch 11/100\n",
            "215/215 [==============================] - 16s 73ms/step - loss: 0.2979 - accuracy: 0.8762 - val_loss: 0.3201 - val_accuracy: 0.8660\n",
            "Epoch 12/100\n",
            "215/215 [==============================] - 16s 74ms/step - loss: 0.3363 - accuracy: 0.8623 - val_loss: 0.3104 - val_accuracy: 0.8730\n",
            "Epoch 13/100\n",
            "215/215 [==============================] - 16s 74ms/step - loss: 0.2870 - accuracy: 0.8790 - val_loss: 0.2979 - val_accuracy: 0.8957\n",
            "Epoch 14/100\n",
            "215/215 [==============================] - 16s 73ms/step - loss: 0.2917 - accuracy: 0.8854 - val_loss: 0.2729 - val_accuracy: 0.9051\n",
            "Epoch 15/100\n",
            "215/215 [==============================] - 15s 72ms/step - loss: 0.2751 - accuracy: 0.8944 - val_loss: 0.2911 - val_accuracy: 0.8783\n",
            "Epoch 16/100\n",
            "215/215 [==============================] - 16s 73ms/step - loss: 0.2509 - accuracy: 0.9045 - val_loss: 0.2600 - val_accuracy: 0.9056\n",
            "Epoch 17/100\n",
            "215/215 [==============================] - 16s 74ms/step - loss: 0.2439 - accuracy: 0.9114 - val_loss: 0.4462 - val_accuracy: 0.8643\n",
            "Epoch 18/100\n",
            "215/215 [==============================] - 16s 73ms/step - loss: 0.2881 - accuracy: 0.8958 - val_loss: 0.2381 - val_accuracy: 0.9289\n",
            "Epoch 19/100\n",
            "215/215 [==============================] - 16s 73ms/step - loss: 0.2158 - accuracy: 0.9240 - val_loss: 0.2533 - val_accuracy: 0.9214\n",
            "Epoch 20/100\n",
            "215/215 [==============================] - 16s 73ms/step - loss: 0.2245 - accuracy: 0.9116 - val_loss: 0.1987 - val_accuracy: 0.9289\n",
            "Epoch 21/100\n",
            "215/215 [==============================] - 16s 73ms/step - loss: 0.1779 - accuracy: 0.9353 - val_loss: 0.2409 - val_accuracy: 0.9173\n",
            "Epoch 22/100\n",
            "215/215 [==============================] - 16s 74ms/step - loss: 0.1712 - accuracy: 0.9409 - val_loss: 0.2731 - val_accuracy: 0.9045\n",
            "Epoch 23/100\n",
            "215/215 [==============================] - 16s 73ms/step - loss: 0.1957 - accuracy: 0.9311 - val_loss: 0.2100 - val_accuracy: 0.9260\n",
            "Epoch 24/100\n",
            "215/215 [==============================] - 16s 72ms/step - loss: 0.1663 - accuracy: 0.9413 - val_loss: 0.1758 - val_accuracy: 0.9429\n",
            "Epoch 25/100\n",
            "215/215 [==============================] - 15s 72ms/step - loss: 0.1539 - accuracy: 0.9458 - val_loss: 0.1961 - val_accuracy: 0.9371\n",
            "Epoch 26/100\n",
            "215/215 [==============================] - 15s 72ms/step - loss: 0.1500 - accuracy: 0.9453 - val_loss: 0.1858 - val_accuracy: 0.9377\n",
            "Epoch 27/100\n",
            "215/215 [==============================] - 16s 74ms/step - loss: 0.1661 - accuracy: 0.9405 - val_loss: 0.2278 - val_accuracy: 0.9150\n",
            "Epoch 28/100\n",
            "215/215 [==============================] - 16s 73ms/step - loss: 0.1672 - accuracy: 0.9368 - val_loss: 0.2203 - val_accuracy: 0.9319\n",
            "Epoch 29/100\n",
            "215/215 [==============================] - 16s 73ms/step - loss: 0.1748 - accuracy: 0.9353 - val_loss: 0.1858 - val_accuracy: 0.9342\n",
            "Epoch 30/100\n",
            "215/215 [==============================] - 16s 74ms/step - loss: 0.1420 - accuracy: 0.9489 - val_loss: 0.1777 - val_accuracy: 0.9406\n",
            "Epoch 31/100\n",
            "215/215 [==============================] - 16s 73ms/step - loss: 0.1252 - accuracy: 0.9500 - val_loss: 0.1725 - val_accuracy: 0.9377\n",
            "Epoch 32/100\n",
            "215/215 [==============================] - 16s 74ms/step - loss: 0.1323 - accuracy: 0.9502 - val_loss: 0.1606 - val_accuracy: 0.9441\n",
            "Epoch 33/100\n",
            "215/215 [==============================] - 16s 73ms/step - loss: 0.1141 - accuracy: 0.9580 - val_loss: 0.1680 - val_accuracy: 0.9435\n",
            "Epoch 34/100\n",
            "215/215 [==============================] - 16s 74ms/step - loss: 0.1816 - accuracy: 0.9328 - val_loss: 0.2204 - val_accuracy: 0.9208\n",
            "Epoch 35/100\n",
            "215/215 [==============================] - 16s 73ms/step - loss: 0.1406 - accuracy: 0.9498 - val_loss: 0.1489 - val_accuracy: 0.9493\n",
            "Epoch 36/100\n",
            "215/215 [==============================] - 16s 73ms/step - loss: 0.1317 - accuracy: 0.9557 - val_loss: 0.1593 - val_accuracy: 0.9348\n",
            "Epoch 37/100\n",
            "215/215 [==============================] - 16s 73ms/step - loss: 0.1184 - accuracy: 0.9578 - val_loss: 0.1431 - val_accuracy: 0.9528\n",
            "Epoch 38/100\n",
            "215/215 [==============================] - 16s 73ms/step - loss: 0.0996 - accuracy: 0.9604 - val_loss: 0.1315 - val_accuracy: 0.9505\n",
            "Epoch 39/100\n",
            "215/215 [==============================] - 16s 73ms/step - loss: 0.1277 - accuracy: 0.9527 - val_loss: 0.1437 - val_accuracy: 0.9511\n",
            "Epoch 40/100\n",
            "215/215 [==============================] - 16s 74ms/step - loss: 0.1180 - accuracy: 0.9572 - val_loss: 0.1335 - val_accuracy: 0.9552\n",
            "Epoch 41/100\n",
            "215/215 [==============================] - 16s 74ms/step - loss: 0.0918 - accuracy: 0.9649 - val_loss: 0.1495 - val_accuracy: 0.9453\n",
            "Epoch 42/100\n",
            "215/215 [==============================] - 16s 73ms/step - loss: 0.0922 - accuracy: 0.9645 - val_loss: 0.1424 - val_accuracy: 0.9511\n",
            "Epoch 43/100\n",
            "215/215 [==============================] - 16s 74ms/step - loss: 0.0989 - accuracy: 0.9622 - val_loss: 0.1459 - val_accuracy: 0.9487\n",
            "Epoch 44/100\n",
            "215/215 [==============================] - 16s 73ms/step - loss: 0.0995 - accuracy: 0.9634 - val_loss: 0.1381 - val_accuracy: 0.9499\n",
            "Epoch 45/100\n",
            "215/215 [==============================] - 16s 72ms/step - loss: 0.1003 - accuracy: 0.9650 - val_loss: 0.1382 - val_accuracy: 0.9499\n",
            "Epoch 46/100\n",
            "215/215 [==============================] - 16s 74ms/step - loss: 0.0807 - accuracy: 0.9708 - val_loss: 0.1637 - val_accuracy: 0.9412\n",
            "Epoch 47/100\n",
            "215/215 [==============================] - 16s 74ms/step - loss: 0.1132 - accuracy: 0.9611 - val_loss: 0.1414 - val_accuracy: 0.9482\n",
            "Epoch 48/100\n",
            "215/215 [==============================] - 16s 74ms/step - loss: 0.1031 - accuracy: 0.9654 - val_loss: 0.1375 - val_accuracy: 0.9517\n",
            "Epoch 49/100\n",
            "215/215 [==============================] - 16s 74ms/step - loss: 0.0790 - accuracy: 0.9686 - val_loss: 0.1358 - val_accuracy: 0.9505\n",
            "Epoch 50/100\n",
            "215/215 [==============================] - 16s 75ms/step - loss: 0.0754 - accuracy: 0.9718 - val_loss: 0.1332 - val_accuracy: 0.9505\n",
            "Epoch 51/100\n",
            "215/215 [==============================] - 16s 73ms/step - loss: 0.0789 - accuracy: 0.9711 - val_loss: 0.1378 - val_accuracy: 0.9505\n",
            "Epoch 52/100\n",
            "215/215 [==============================] - 16s 73ms/step - loss: 0.0737 - accuracy: 0.9723 - val_loss: 0.1345 - val_accuracy: 0.9552\n",
            "Epoch 53/100\n",
            "215/215 [==============================] - 16s 74ms/step - loss: 0.0783 - accuracy: 0.9681 - val_loss: 0.1597 - val_accuracy: 0.9493\n",
            "Epoch 54/100\n",
            "215/215 [==============================] - 16s 74ms/step - loss: 0.0778 - accuracy: 0.9709 - val_loss: 0.1276 - val_accuracy: 0.9581\n",
            "Epoch 55/100\n",
            "215/215 [==============================] - 16s 73ms/step - loss: 0.0681 - accuracy: 0.9748 - val_loss: 0.1273 - val_accuracy: 0.9581\n",
            "Epoch 56/100\n",
            "215/215 [==============================] - 16s 73ms/step - loss: 0.0744 - accuracy: 0.9741 - val_loss: 0.1339 - val_accuracy: 0.9511\n",
            "Epoch 57/100\n",
            "215/215 [==============================] - 16s 73ms/step - loss: 0.0523 - accuracy: 0.9826 - val_loss: 0.1206 - val_accuracy: 0.9627\n",
            "Epoch 58/100\n",
            "215/215 [==============================] - 16s 74ms/step - loss: 0.0678 - accuracy: 0.9727 - val_loss: 0.1766 - val_accuracy: 0.9400\n",
            "Epoch 59/100\n",
            "215/215 [==============================] - 16s 74ms/step - loss: 0.0711 - accuracy: 0.9748 - val_loss: 0.1099 - val_accuracy: 0.9651\n",
            "Epoch 60/100\n",
            "215/215 [==============================] - 16s 74ms/step - loss: 0.0604 - accuracy: 0.9811 - val_loss: 0.1347 - val_accuracy: 0.9546\n",
            "Epoch 61/100\n",
            "215/215 [==============================] - 16s 73ms/step - loss: 0.0571 - accuracy: 0.9800 - val_loss: 0.1213 - val_accuracy: 0.9616\n",
            "Epoch 62/100\n",
            "215/215 [==============================] - 16s 73ms/step - loss: 0.0574 - accuracy: 0.9784 - val_loss: 0.1270 - val_accuracy: 0.9581\n",
            "Epoch 63/100\n",
            "215/215 [==============================] - 16s 74ms/step - loss: 0.0523 - accuracy: 0.9824 - val_loss: 0.1571 - val_accuracy: 0.9528\n",
            "Epoch 64/100\n",
            "215/215 [==============================] - 16s 74ms/step - loss: 0.0562 - accuracy: 0.9780 - val_loss: 0.1288 - val_accuracy: 0.9604\n",
            "Epoch 65/100\n",
            "215/215 [==============================] - 16s 74ms/step - loss: 0.0540 - accuracy: 0.9802 - val_loss: 0.1168 - val_accuracy: 0.9598\n",
            "Epoch 66/100\n",
            "215/215 [==============================] - 16s 73ms/step - loss: 0.0483 - accuracy: 0.9837 - val_loss: 0.1215 - val_accuracy: 0.9651\n",
            "Epoch 67/100\n",
            "215/215 [==============================] - 16s 74ms/step - loss: 0.0617 - accuracy: 0.9783 - val_loss: 0.1269 - val_accuracy: 0.9616\n",
            "Epoch 68/100\n",
            "215/215 [==============================] - 16s 74ms/step - loss: 0.0648 - accuracy: 0.9795 - val_loss: 0.1219 - val_accuracy: 0.9581\n",
            "Epoch 69/100\n",
            "215/215 [==============================] - 16s 75ms/step - loss: 0.0411 - accuracy: 0.9864 - val_loss: 0.1237 - val_accuracy: 0.9604\n",
            "Epoch 70/100\n",
            "215/215 [==============================] - 16s 75ms/step - loss: 0.0533 - accuracy: 0.9809 - val_loss: 0.0947 - val_accuracy: 0.9709\n",
            "Epoch 71/100\n",
            "215/215 [==============================] - 16s 75ms/step - loss: 0.0425 - accuracy: 0.9841 - val_loss: 0.1280 - val_accuracy: 0.9552\n",
            "Epoch 72/100\n",
            "215/215 [==============================] - 16s 75ms/step - loss: 0.0534 - accuracy: 0.9846 - val_loss: 0.1229 - val_accuracy: 0.9656\n",
            "Epoch 73/100\n",
            "215/215 [==============================] - 16s 76ms/step - loss: 0.0377 - accuracy: 0.9879 - val_loss: 0.1154 - val_accuracy: 0.9592\n",
            "Epoch 74/100\n",
            "215/215 [==============================] - 16s 74ms/step - loss: 0.0443 - accuracy: 0.9880 - val_loss: 0.1177 - val_accuracy: 0.9627\n",
            "Epoch 75/100\n",
            "215/215 [==============================] - 16s 74ms/step - loss: 0.0318 - accuracy: 0.9890 - val_loss: 0.1343 - val_accuracy: 0.9586\n",
            "Epoch 76/100\n",
            "215/215 [==============================] - 16s 74ms/step - loss: 0.0297 - accuracy: 0.9894 - val_loss: 0.1236 - val_accuracy: 0.9621\n",
            "Epoch 77/100\n",
            "215/215 [==============================] - 16s 74ms/step - loss: 0.0336 - accuracy: 0.9893 - val_loss: 0.1343 - val_accuracy: 0.9616\n",
            "Epoch 78/100\n",
            "215/215 [==============================] - 16s 74ms/step - loss: 0.0338 - accuracy: 0.9891 - val_loss: 0.1167 - val_accuracy: 0.9651\n",
            "Epoch 79/100\n",
            "215/215 [==============================] - 16s 75ms/step - loss: 0.0362 - accuracy: 0.9883 - val_loss: 0.1326 - val_accuracy: 0.9569\n",
            "Epoch 80/100\n",
            "215/215 [==============================] - 16s 74ms/step - loss: 0.0363 - accuracy: 0.9866 - val_loss: 0.1346 - val_accuracy: 0.9651\n",
            "Epoch 81/100\n",
            "215/215 [==============================] - 16s 75ms/step - loss: 0.0450 - accuracy: 0.9857 - val_loss: 0.1261 - val_accuracy: 0.9656\n",
            "Epoch 82/100\n",
            "215/215 [==============================] - 16s 75ms/step - loss: 0.0388 - accuracy: 0.9870 - val_loss: 0.1178 - val_accuracy: 0.9703\n",
            "Epoch 83/100\n",
            "215/215 [==============================] - 16s 73ms/step - loss: 0.0348 - accuracy: 0.9913 - val_loss: 0.1102 - val_accuracy: 0.9685\n",
            "Epoch 84/100\n",
            "215/215 [==============================] - 16s 73ms/step - loss: 0.0316 - accuracy: 0.9883 - val_loss: 0.1184 - val_accuracy: 0.9621\n",
            "Epoch 85/100\n",
            "215/215 [==============================] - 16s 73ms/step - loss: 0.0306 - accuracy: 0.9910 - val_loss: 0.1012 - val_accuracy: 0.9697\n",
            "Epoch 86/100\n",
            "215/215 [==============================] - 16s 75ms/step - loss: 0.0289 - accuracy: 0.9891 - val_loss: 0.1023 - val_accuracy: 0.9709\n",
            "Epoch 87/100\n",
            "215/215 [==============================] - 16s 74ms/step - loss: 0.0399 - accuracy: 0.9890 - val_loss: 0.1074 - val_accuracy: 0.9656\n",
            "Epoch 88/100\n",
            "215/215 [==============================] - 16s 75ms/step - loss: 0.0244 - accuracy: 0.9917 - val_loss: 0.1319 - val_accuracy: 0.9633\n",
            "Epoch 89/100\n",
            "215/215 [==============================] - 16s 74ms/step - loss: 0.0264 - accuracy: 0.9910 - val_loss: 0.1158 - val_accuracy: 0.9645\n",
            "Epoch 90/100\n",
            "215/215 [==============================] - 16s 74ms/step - loss: 0.0363 - accuracy: 0.9876 - val_loss: 0.1072 - val_accuracy: 0.9697\n",
            "Epoch 91/100\n",
            "215/215 [==============================] - 16s 75ms/step - loss: 0.0342 - accuracy: 0.9891 - val_loss: 0.1544 - val_accuracy: 0.9534\n",
            "Epoch 92/100\n",
            "215/215 [==============================] - 16s 74ms/step - loss: 0.0258 - accuracy: 0.9926 - val_loss: 0.1039 - val_accuracy: 0.9697\n",
            "Epoch 93/100\n",
            "215/215 [==============================] - 16s 75ms/step - loss: 0.0297 - accuracy: 0.9920 - val_loss: 0.1149 - val_accuracy: 0.9656\n",
            "Epoch 94/100\n",
            "215/215 [==============================] - 16s 74ms/step - loss: 0.0408 - accuracy: 0.9864 - val_loss: 0.1652 - val_accuracy: 0.9552\n",
            "Epoch 95/100\n",
            "215/215 [==============================] - 16s 73ms/step - loss: 0.0519 - accuracy: 0.9838 - val_loss: 0.1162 - val_accuracy: 0.9697\n",
            "Epoch 96/100\n",
            "215/215 [==============================] - 16s 74ms/step - loss: 0.0333 - accuracy: 0.9879 - val_loss: 0.1412 - val_accuracy: 0.9645\n",
            "Epoch 97/100\n",
            "215/215 [==============================] - 16s 74ms/step - loss: 0.0199 - accuracy: 0.9945 - val_loss: 0.1091 - val_accuracy: 0.9709\n",
            "Epoch 98/100\n",
            "215/215 [==============================] - 16s 75ms/step - loss: 0.0188 - accuracy: 0.9926 - val_loss: 0.1172 - val_accuracy: 0.9668\n",
            "Epoch 99/100\n",
            "215/215 [==============================] - 16s 76ms/step - loss: 0.0280 - accuracy: 0.9907 - val_loss: 0.1218 - val_accuracy: 0.9662\n",
            "Epoch 100/100\n",
            "215/215 [==============================] - 16s 74ms/step - loss: 0.0157 - accuracy: 0.9952 - val_loss: 0.1232 - val_accuracy: 0.9691\n"
          ],
          "name": "stdout"
        }
      ]
    },
    {
      "cell_type": "code",
      "metadata": {
        "id": "4Q9smwpgQnHx"
      },
      "source": [
        "def plot_learningCurve(history, epochs):\r\n",
        "  # Plot training & validation accuracy values\r\n",
        "    epoch_range = range(1, epochs+1)\r\n",
        "    plt.plot(epoch_range, history.history['accuracy'])\r\n",
        "    plt.plot(epoch_range, history.history['val_accuracy'])\r\n",
        "    plt.title('Model accuracy')\r\n",
        "    plt.ylabel('Accuracy')\r\n",
        "    plt.xlabel('Epoch')\r\n",
        "    plt.legend(['Train', 'Val'], loc='upper left')\r\n",
        "    plt.show()\r\n",
        "\r\n",
        "      # Plot training & validation loss values\r\n",
        "    plt.plot(epoch_range, history.history['loss'])\r\n",
        "    plt.plot(epoch_range, history.history['val_loss'])\r\n",
        "    plt.title('Model loss')\r\n",
        "    plt.ylabel('Loss')\r\n",
        "    plt.xlabel('Epoch')\r\n",
        "    plt.legend(['Train', 'Val'], loc='upper left')\r\n",
        "    plt.show() "
      ],
      "execution_count": 9,
      "outputs": []
    },
    {
      "cell_type": "code",
      "metadata": {
        "colab": {
          "base_uri": "https://localhost:8080/",
          "height": 573
        },
        "id": "ZS8-5FkgVWXB",
        "outputId": "70065499-08ce-4383-91d5-13d82b449b6a"
      },
      "source": [
        "plot_learningCurve(history, 100) "
      ],
      "execution_count": 10,
      "outputs": [
        {
          "output_type": "display_data",
          "data": {
            "image/png": "[encoded data removed]",
            "text/plain": [
              "<Figure size 432x288 with 1 Axes>"
            ]
          },
          "metadata": {
            "tags": [],
            "needs_background": "light"
          }
        },
        {
          "output_type": "display_data",
          "data": {
            "image/png": "[encoded data removed]",
            "text/plain": [
              "<Figure size 432x288 with 1 Axes>"
            ]
          },
          "metadata": {
            "tags": [],
            "needs_background": "light"
          }
        }
      ]
    },
    {
      "cell_type": "code",
      "metadata": {
        "id": "JTVvm0mkdwG7",
        "colab": {
          "base_uri": "https://localhost:8080/"
        },
        "outputId": "03ec80cd-18e8-4be7-8c5e-55edfaf6396f"
      },
      "source": [
        "y_pred = model.predict_classes(X_test)"
      ],
      "execution_count": 11,
      "outputs": [
        {
          "output_type": "stream",
          "text": [
            "/usr/local/lib/python3.7/dist-packages/tensorflow/python/keras/engine/sequential.py:450: UserWarning: `model.predict_classes()` is deprecated and will be removed after 2021-01-01. Please use instead:* `np.argmax(model.predict(x), axis=-1)`,   if your model does multi-class classification   (e.g. if it uses a `softmax` last-layer activation).* `(model.predict(x) > 0.5).astype(\"int32\")`,   if your model does binary classification   (e.g. if it uses a `sigmoid` last-layer activation).\n",
            "  warnings.warn('`model.predict_classes()` is deprecated and '\n"
          ],
          "name": "stderr"
        }
      ]
    },
    {
      "cell_type": "code",
      "metadata": {
        "id": "6A_Dk-TUNaaU"
      },
      "source": [
        "from sklearn.metrics import confusion_matrix, plot_confusion_matrix "
      ],
      "execution_count": 12,
      "outputs": []
    },
    {
      "cell_type": "code",
      "metadata": {
        "colab": {
          "base_uri": "https://localhost:8080/",
          "height": 436
        },
        "id": "LMy3SsxTNd_w",
        "outputId": "64424f2d-b22f-47b7-edf0-e50daf50f4b5"
      },
      "source": [
        "index=['Downstairs', 'Jogging', 'Sitting', 'Standing', 'Upstairs','Walking']\r\n",
        "mat = confusion_matrix(y_test, y_pred)\r\n",
        "df_cm = pd.DataFrame(mat, index, index)\r\n",
        "plt.figure(figsize=(10,7))\r\n",
        "sns.set(font_scale=1.4) # for label size\r\n",
        "sns.heatmap(df_cm, annot=True, annot_kws={\"size\": 16}) # font size\r\n",
        "\r\n",
        "plt.show() "
      ],
      "execution_count": 13,
      "outputs": [
        {
          "output_type": "display_data",
          "data": {
            "image/png": "[encoded data removed]",
            "text/plain": [
              "<Figure size 720x504 with 2 Axes>"
            ]
          },
          "metadata": {
            "tags": [],
            "needs_background": "light"
          }
        }
      ]
    },
    {
      "cell_type": "code",
      "metadata": {
        "id": "RN-BRPAzNgzU"
      },
      "source": [
        "acc_by_class = mat.diagonal()/mat.sum(axis=1)"
      ],
      "execution_count": 15,
      "outputs": []
    },
    {
      "cell_type": "code",
      "metadata": {
        "colab": {
          "base_uri": "https://localhost:8080/"
        },
        "id": "oBzD_qrBOAkX",
        "outputId": "5e1f46af-52f9-4e15-9acc-1c6df3f87e4c"
      },
      "source": [
        "for i in range(6):\r\n",
        "  print(index[i]+\" : \"+str(acc_by_class[i]))"
      ],
      "execution_count": 17,
      "outputs": [
        {
          "output_type": "stream",
          "text": [
            "Downstairs : 0.874251497005988\n",
            "Jogging : 0.9938176197836167\n",
            "Sitting : 0.9130434782608695\n",
            "Standing : 1.0\n",
            "Upstairs : 0.8977272727272727\n",
            "Walking : 0.9883551673944687\n"
          ],
          "name": "stdout"
        }
      ]
    },
    {
      "cell_type": "code",
      "metadata": {
        "id": "_IMOAQGqOMPg"
      },
      "source": [
        ""
      ],
      "execution_count": null,
      "outputs": []
    }
  ]
}